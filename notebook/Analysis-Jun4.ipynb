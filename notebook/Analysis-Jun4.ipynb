{
 "cells": [
  {
   "cell_type": "code",
   "execution_count": 2,
   "id": "b30babd6-bdba-45f4-810f-0036b8e2a123",
   "metadata": {},
   "outputs": [],
   "source": [
    "import json\n",
    "import pandas as pd\n",
    "pd.set_option('display.max_rows', 500)"
   ]
  },
  {
   "cell_type": "code",
   "execution_count": 3,
   "id": "f3841688-dccf-42dc-8ee6-cae1e873057a",
   "metadata": {},
   "outputs": [],
   "source": [
    "def count_words(word):\n",
    "    word_list = word.split()\n",
    "    return len(word_list)\n",
    "\n",
    "def count_characters(word):\n",
    "    return len(word)"
   ]
  },
  {
   "cell_type": "code",
   "execution_count": 5,
   "id": "0c7230d2-d662-445e-af0f-258465d7ef72",
   "metadata": {},
   "outputs": [],
   "source": [
    "search_engines = [\n",
    "    { 'name': 'google', 'category': 'web' },\n",
    "    { 'name': 'neeva', 'category': 'web' },\n",
    "    { 'name': 'bing', 'category': 'web' },\n",
    "    { 'name': 'duckduckgo', 'category': 'web' },\n",
    "    { 'name': 'yahoo', 'category': 'web' },\n",
    "    { 'name': 'amazon', 'category': 'ecom' },\n",
    "    { 'name': 'ebay', 'category': 'ecom' },\n",
    "    { 'name': 'etsy', 'category': 'ecom' },\n",
    "    { 'name': 'target', 'category': 'ecom' }\n",
    "]\n",
    "\n",
    "fmt_results = [];\n",
    "\n",
    "for row in search_engines:\n",
    "    results_path = './../cypress/fixtures/' + row['name'] + \"-output.json\"\n",
    "    f = open(results_path, \"r\")\n",
    "    results = json.load(f)\n",
    "    \n",
    "    for query in results:\n",
    "        for suggestion in query['results']:                    \n",
    "            fmt_suggestion = {\n",
    "                'search_engine': row['name'],\n",
    "                'category': row['category'],\n",
    "                'query': query['query'],\n",
    "                'text': suggestion['text'],\n",
    "                'index': suggestion['index'],\n",
    "                'height': suggestion['height'],\n",
    "                'num_suggestions': len(query['results']),\n",
    "                'num_words': count_words(suggestion['text']),\n",
    "                'num_characters': count_characters(suggestion['text']),\n",
    "            }\n",
    "            fmt_results.append(fmt_suggestion);\n",
    "            \n",
    "\n",
    "df = pd.DataFrame(fmt_results)            "
   ]
  },
  {
   "cell_type": "code",
   "execution_count": 6,
   "id": "e18a7202-216a-49d6-8720-83fffa970bd8",
   "metadata": {},
   "outputs": [
    {
     "data": {
      "text/html": [
       "<div>\n",
       "<style scoped>\n",
       "    .dataframe tbody tr th:only-of-type {\n",
       "        vertical-align: middle;\n",
       "    }\n",
       "\n",
       "    .dataframe tbody tr th {\n",
       "        vertical-align: top;\n",
       "    }\n",
       "\n",
       "    .dataframe thead th {\n",
       "        text-align: right;\n",
       "    }\n",
       "</style>\n",
       "<table border=\"1\" class=\"dataframe\">\n",
       "  <thead>\n",
       "    <tr style=\"text-align: right;\">\n",
       "      <th></th>\n",
       "      <th>count</th>\n",
       "      <th>mean</th>\n",
       "      <th>std</th>\n",
       "      <th>min</th>\n",
       "      <th>25%</th>\n",
       "      <th>50%</th>\n",
       "      <th>75%</th>\n",
       "      <th>max</th>\n",
       "    </tr>\n",
       "    <tr>\n",
       "      <th>search_engine</th>\n",
       "      <th></th>\n",
       "      <th></th>\n",
       "      <th></th>\n",
       "      <th></th>\n",
       "      <th></th>\n",
       "      <th></th>\n",
       "      <th></th>\n",
       "      <th></th>\n",
       "    </tr>\n",
       "  </thead>\n",
       "  <tbody>\n",
       "    <tr>\n",
       "      <th>amazon</th>\n",
       "      <td>165.0</td>\n",
       "      <td>11.351515</td>\n",
       "      <td>2.411371</td>\n",
       "      <td>10.0</td>\n",
       "      <td>10.0</td>\n",
       "      <td>11.0</td>\n",
       "      <td>11.0</td>\n",
       "      <td>18.0</td>\n",
       "    </tr>\n",
       "    <tr>\n",
       "      <th>bing</th>\n",
       "      <td>148.0</td>\n",
       "      <td>9.878378</td>\n",
       "      <td>0.327958</td>\n",
       "      <td>9.0</td>\n",
       "      <td>10.0</td>\n",
       "      <td>10.0</td>\n",
       "      <td>10.0</td>\n",
       "      <td>10.0</td>\n",
       "    </tr>\n",
       "    <tr>\n",
       "      <th>duckduckgo</th>\n",
       "      <td>120.0</td>\n",
       "      <td>8.000000</td>\n",
       "      <td>0.000000</td>\n",
       "      <td>8.0</td>\n",
       "      <td>8.0</td>\n",
       "      <td>8.0</td>\n",
       "      <td>8.0</td>\n",
       "      <td>8.0</td>\n",
       "    </tr>\n",
       "    <tr>\n",
       "      <th>ebay</th>\n",
       "      <td>164.0</td>\n",
       "      <td>11.500000</td>\n",
       "      <td>1.279858</td>\n",
       "      <td>2.0</td>\n",
       "      <td>11.0</td>\n",
       "      <td>12.0</td>\n",
       "      <td>12.0</td>\n",
       "      <td>13.0</td>\n",
       "    </tr>\n",
       "    <tr>\n",
       "      <th>etsy</th>\n",
       "      <td>155.0</td>\n",
       "      <td>10.664516</td>\n",
       "      <td>1.275531</td>\n",
       "      <td>4.0</td>\n",
       "      <td>11.0</td>\n",
       "      <td>11.0</td>\n",
       "      <td>11.0</td>\n",
       "      <td>11.0</td>\n",
       "    </tr>\n",
       "    <tr>\n",
       "      <th>google</th>\n",
       "      <td>150.0</td>\n",
       "      <td>10.000000</td>\n",
       "      <td>0.000000</td>\n",
       "      <td>10.0</td>\n",
       "      <td>10.0</td>\n",
       "      <td>10.0</td>\n",
       "      <td>10.0</td>\n",
       "      <td>10.0</td>\n",
       "    </tr>\n",
       "    <tr>\n",
       "      <th>neeva</th>\n",
       "      <td>75.0</td>\n",
       "      <td>5.000000</td>\n",
       "      <td>0.000000</td>\n",
       "      <td>5.0</td>\n",
       "      <td>5.0</td>\n",
       "      <td>5.0</td>\n",
       "      <td>5.0</td>\n",
       "      <td>5.0</td>\n",
       "    </tr>\n",
       "    <tr>\n",
       "      <th>target</th>\n",
       "      <td>125.0</td>\n",
       "      <td>9.672000</td>\n",
       "      <td>1.615330</td>\n",
       "      <td>1.0</td>\n",
       "      <td>10.0</td>\n",
       "      <td>10.0</td>\n",
       "      <td>10.0</td>\n",
       "      <td>10.0</td>\n",
       "    </tr>\n",
       "    <tr>\n",
       "      <th>yahoo</th>\n",
       "      <td>148.0</td>\n",
       "      <td>9.878378</td>\n",
       "      <td>0.327958</td>\n",
       "      <td>9.0</td>\n",
       "      <td>10.0</td>\n",
       "      <td>10.0</td>\n",
       "      <td>10.0</td>\n",
       "      <td>10.0</td>\n",
       "    </tr>\n",
       "  </tbody>\n",
       "</table>\n",
       "</div>"
      ],
      "text/plain": [
       "               count       mean       std   min   25%   50%   75%   max\n",
       "search_engine                                                          \n",
       "amazon         165.0  11.351515  2.411371  10.0  10.0  11.0  11.0  18.0\n",
       "bing           148.0   9.878378  0.327958   9.0  10.0  10.0  10.0  10.0\n",
       "duckduckgo     120.0   8.000000  0.000000   8.0   8.0   8.0   8.0   8.0\n",
       "ebay           164.0  11.500000  1.279858   2.0  11.0  12.0  12.0  13.0\n",
       "etsy           155.0  10.664516  1.275531   4.0  11.0  11.0  11.0  11.0\n",
       "google         150.0  10.000000  0.000000  10.0  10.0  10.0  10.0  10.0\n",
       "neeva           75.0   5.000000  0.000000   5.0   5.0   5.0   5.0   5.0\n",
       "target         125.0   9.672000  1.615330   1.0  10.0  10.0  10.0  10.0\n",
       "yahoo          148.0   9.878378  0.327958   9.0  10.0  10.0  10.0  10.0"
      ]
     },
     "execution_count": 6,
     "metadata": {},
     "output_type": "execute_result"
    }
   ],
   "source": [
    "df.groupby(['search_engine'])['num_suggestions'].describe()"
   ]
  },
  {
   "cell_type": "markdown",
   "id": "46b6a339-b2e0-4499-80e2-435b001e804f",
   "metadata": {},
   "source": [
    "---\n",
    "# How many suggestions should be shown?\n",
    "Looking across all of the searches what is the average number of suggestions that each search engine shows in there autocompletes?"
   ]
  },
  {
   "cell_type": "code",
   "execution_count": 57,
   "id": "87dfdb93-8978-4adc-a859-6f8c45d115ff",
   "metadata": {},
   "outputs": [],
   "source": [
    "avg_num_suggestions = df.groupby(['search_engine'])['num_suggestions'].agg(['mean']).sort_values('mean')"
   ]
  },
  {
   "cell_type": "code",
   "execution_count": 62,
   "id": "553cddb7-9eb3-4b24-a7a2-75fd32d2c58d",
   "metadata": {},
   "outputs": [
    {
     "data": {
      "text/plain": [
       "<AxesSubplot:title={'center':'Number of suggestions shown'}, xlabel='search_engine'>"
      ]
     },
     "execution_count": 62,
     "metadata": {},
     "output_type": "execute_result"
    },
    {
     "data": {
      "image/png": "[encoded data removed]",
      "text/plain": [
       "<Figure size 1440x864 with 1 Axes>"
      ]
     },
     "metadata": {
      "needs_background": "light"
     },
     "output_type": "display_data"
    }
   ],
   "source": [
    "avg_num_suggestions.plot(kind='bar', title='Number of suggestions shown', y='mean', figsize=(20,12), fontsize=16, color=['#00a3fe'])"
   ]
  }
 ],
 "metadata": {
  "kernelspec": {
   "display_name": "Python 3 (ipykernel)",
   "language": "python",
   "name": "python3"
  },
  "language_info": {
   "codemirror_mode": {
    "name": "ipython",
    "version": 3
   },
   "file_extension": ".py",
   "mimetype": "text/x-python",
   "name": "python",
   "nbconvert_exporter": "python",
   "pygments_lexer": "ipython3",
   "version": "3.9.10"
  }
 },
 "nbformat": 4,
 "nbformat_minor": 5
}
