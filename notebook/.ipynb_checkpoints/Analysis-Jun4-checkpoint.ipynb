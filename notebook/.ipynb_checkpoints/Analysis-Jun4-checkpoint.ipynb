{
 "cells": [
  {
   "cell_type": "code",
   "execution_count": 1,
   "id": "b30babd6-bdba-45f4-810f-0036b8e2a123",
   "metadata": {},
   "outputs": [],
   "source": [
    "import json\n",
    "import pandas as pd\n",
    "pd.set_option('display.max_rows', 500)"
   ]
  },
  {
   "cell_type": "code",
   "execution_count": 2,
   "id": "f3841688-dccf-42dc-8ee6-cae1e873057a",
   "metadata": {},
   "outputs": [],
   "source": [
    "def count_words(word):\n",
    "    word_list = word.split()\n",
    "    return len(word_list)\n",
    "\n",
    "def count_characters(word):\n",
    "    return len(word)"
   ]
  },
  {
   "cell_type": "code",
   "execution_count": 3,
   "id": "0c7230d2-d662-445e-af0f-258465d7ef72",
   "metadata": {},
   "outputs": [],
   "source": [
    "search_engines = [\n",
    "    { 'name': 'google', 'category': 'web' },\n",
    "    { 'name': 'neeva', 'category': 'web' },\n",
    "    { 'name': 'bing', 'category': 'web' },\n",
    "    { 'name': 'duckduckgo', 'category': 'web' },\n",
    "    { 'name': 'yahoo', 'category': 'web' },\n",
    "    { 'name': 'amazon', 'category': 'ecom' },\n",
    "    { 'name': 'ebay', 'category': 'ecom' },\n",
    "    { 'name': 'etsy', 'category': 'ecom' },\n",
    "    { 'name': 'target', 'category': 'ecom' }\n",
    "]\n",
    "\n",
    "fmt_results = [];\n",
    "\n",
    "for row in search_engines:\n",
    "    results_path = './../cypress/fixtures/' + row['name'] + \"-output.json\"\n",
    "    f = open(results_path, \"r\")\n",
    "    results = json.load(f)\n",
    "    \n",
    "    for query in results:\n",
    "        for suggestion in query['results']:                    \n",
    "            fmt_suggestion = {\n",
    "                'search_engine': row['name'],\n",
    "                'category': row['category'],\n",
    "                'query': query['query'],\n",
    "                'text': suggestion['text'],\n",
    "                'index': suggestion['index'],\n",
    "                'height': suggestion['height'],\n",
    "                'num_suggestions': len(query['results']),\n",
    "                'num_words': count_words(suggestion['text']),\n",
    "                'num_characters': count_characters(suggestion['text']),\n",
    "            }\n",
    "            fmt_results.append(fmt_suggestion);\n",
    "            \n",
    "\n",
    "df = pd.DataFrame(fmt_results)            "
   ]
  },
  {
   "cell_type": "code",
   "execution_count": 4,
   "id": "e18a7202-216a-49d6-8720-83fffa970bd8",
   "metadata": {},
   "outputs": [
    {
     "data": {
      "text/html": [
       "<div>\n",
       "<style scoped>\n",
       "    .dataframe tbody tr th:only-of-type {\n",
       "        vertical-align: middle;\n",
       "    }\n",
       "\n",
       "    .dataframe tbody tr th {\n",
       "        vertical-align: top;\n",
       "    }\n",
       "\n",
       "    .dataframe thead th {\n",
       "        text-align: right;\n",
       "    }\n",
       "</style>\n",
       "<table border=\"1\" class=\"dataframe\">\n",
       "  <thead>\n",
       "    <tr style=\"text-align: right;\">\n",
       "      <th></th>\n",
       "      <th>count</th>\n",
       "      <th>mean</th>\n",
       "      <th>std</th>\n",
       "      <th>min</th>\n",
       "      <th>25%</th>\n",
       "      <th>50%</th>\n",
       "      <th>75%</th>\n",
       "      <th>max</th>\n",
       "    </tr>\n",
       "    <tr>\n",
       "      <th>search_engine</th>\n",
       "      <th></th>\n",
       "      <th></th>\n",
       "      <th></th>\n",
       "      <th></th>\n",
       "      <th></th>\n",
       "      <th></th>\n",
       "      <th></th>\n",
       "      <th></th>\n",
       "    </tr>\n",
       "  </thead>\n",
       "  <tbody>\n",
       "    <tr>\n",
       "      <th>amazon</th>\n",
       "      <td>450.0</td>\n",
       "      <td>11.488889</td>\n",
       "      <td>3.290820</td>\n",
       "      <td>1.0</td>\n",
       "      <td>10.0</td>\n",
       "      <td>11.0</td>\n",
       "      <td>11.0</td>\n",
       "      <td>23.0</td>\n",
       "    </tr>\n",
       "    <tr>\n",
       "      <th>bing</th>\n",
       "      <td>363.0</td>\n",
       "      <td>7.578512</td>\n",
       "      <td>0.880282</td>\n",
       "      <td>3.0</td>\n",
       "      <td>7.0</td>\n",
       "      <td>8.0</td>\n",
       "      <td>8.0</td>\n",
       "      <td>8.0</td>\n",
       "    </tr>\n",
       "    <tr>\n",
       "      <th>duckduckgo</th>\n",
       "      <td>392.0</td>\n",
       "      <td>8.000000</td>\n",
       "      <td>0.000000</td>\n",
       "      <td>8.0</td>\n",
       "      <td>8.0</td>\n",
       "      <td>8.0</td>\n",
       "      <td>8.0</td>\n",
       "      <td>8.0</td>\n",
       "    </tr>\n",
       "    <tr>\n",
       "      <th>ebay</th>\n",
       "      <td>322.0</td>\n",
       "      <td>11.043478</td>\n",
       "      <td>2.653036</td>\n",
       "      <td>1.0</td>\n",
       "      <td>11.0</td>\n",
       "      <td>12.0</td>\n",
       "      <td>12.0</td>\n",
       "      <td>13.0</td>\n",
       "    </tr>\n",
       "    <tr>\n",
       "      <th>etsy</th>\n",
       "      <td>374.0</td>\n",
       "      <td>11.278075</td>\n",
       "      <td>2.133029</td>\n",
       "      <td>2.0</td>\n",
       "      <td>12.0</td>\n",
       "      <td>12.0</td>\n",
       "      <td>12.0</td>\n",
       "      <td>12.0</td>\n",
       "    </tr>\n",
       "    <tr>\n",
       "      <th>google</th>\n",
       "      <td>490.0</td>\n",
       "      <td>10.000000</td>\n",
       "      <td>0.000000</td>\n",
       "      <td>10.0</td>\n",
       "      <td>10.0</td>\n",
       "      <td>10.0</td>\n",
       "      <td>10.0</td>\n",
       "      <td>10.0</td>\n",
       "    </tr>\n",
       "    <tr>\n",
       "      <th>neeva</th>\n",
       "      <td>241.0</td>\n",
       "      <td>4.983402</td>\n",
       "      <td>0.257663</td>\n",
       "      <td>1.0</td>\n",
       "      <td>5.0</td>\n",
       "      <td>5.0</td>\n",
       "      <td>5.0</td>\n",
       "      <td>5.0</td>\n",
       "    </tr>\n",
       "    <tr>\n",
       "      <th>target</th>\n",
       "      <td>257.0</td>\n",
       "      <td>9.007782</td>\n",
       "      <td>2.484314</td>\n",
       "      <td>1.0</td>\n",
       "      <td>10.0</td>\n",
       "      <td>10.0</td>\n",
       "      <td>10.0</td>\n",
       "      <td>10.0</td>\n",
       "    </tr>\n",
       "    <tr>\n",
       "      <th>yahoo</th>\n",
       "      <td>485.0</td>\n",
       "      <td>9.907216</td>\n",
       "      <td>0.290428</td>\n",
       "      <td>9.0</td>\n",
       "      <td>10.0</td>\n",
       "      <td>10.0</td>\n",
       "      <td>10.0</td>\n",
       "      <td>10.0</td>\n",
       "    </tr>\n",
       "  </tbody>\n",
       "</table>\n",
       "</div>"
      ],
      "text/plain": [
       "               count       mean       std   min   25%   50%   75%   max\n",
       "search_engine                                                          \n",
       "amazon         450.0  11.488889  3.290820   1.0  10.0  11.0  11.0  23.0\n",
       "bing           363.0   7.578512  0.880282   3.0   7.0   8.0   8.0   8.0\n",
       "duckduckgo     392.0   8.000000  0.000000   8.0   8.0   8.0   8.0   8.0\n",
       "ebay           322.0  11.043478  2.653036   1.0  11.0  12.0  12.0  13.0\n",
       "etsy           374.0  11.278075  2.133029   2.0  12.0  12.0  12.0  12.0\n",
       "google         490.0  10.000000  0.000000  10.0  10.0  10.0  10.0  10.0\n",
       "neeva          241.0   4.983402  0.257663   1.0   5.0   5.0   5.0   5.0\n",
       "target         257.0   9.007782  2.484314   1.0  10.0  10.0  10.0  10.0\n",
       "yahoo          485.0   9.907216  0.290428   9.0  10.0  10.0  10.0  10.0"
      ]
     },
     "execution_count": 4,
     "metadata": {},
     "output_type": "execute_result"
    }
   ],
   "source": [
    "df.groupby(['search_engine'])['num_suggestions'].describe()"
   ]
  },
  {
   "cell_type": "markdown",
   "id": "0b51662b-f5a2-4645-8f63-1f0a2653f748",
   "metadata": {},
   "source": [
    "---\n",
    "# How queries were analyzed per search engine?"
   ]
  },
  {
   "cell_type": "code",
   "execution_count": 11,
   "id": "363f9e14-8807-410e-9d19-792c787bd948",
   "metadata": {},
   "outputs": [
    {
     "data": {
      "text/plain": [
       "3374"
      ]
     },
     "execution_count": 11,
     "metadata": {},
     "output_type": "execute_result"
    }
   ],
   "source": [
    "df['query'].count()"
   ]
  },
  {
   "cell_type": "markdown",
   "id": "46b6a339-b2e0-4499-80e2-435b001e804f",
   "metadata": {},
   "source": [
    "---\n",
    "# How many suggestions should be shown?\n",
    "For all of the given test queries, what is the avg number of suggestions shown by each search engine?"
   ]
  },
  {
   "cell_type": "code",
   "execution_count": 30,
   "id": "d236637b-d530-4dc0-aa5c-4a87e1828bc8",
   "metadata": {},
   "outputs": [
    {
     "data": {
      "text/plain": [
       "mean    9.499704\n",
       "Name: num_suggestions, dtype: float64"
      ]
     },
     "execution_count": 30,
     "metadata": {},
     "output_type": "execute_result"
    }
   ],
   "source": [
    "df['num_suggestions'].agg(['mean'])"
   ]
  },
  {
   "cell_type": "code",
   "execution_count": 32,
   "id": "b3384281-3143-4c6e-afef-aed40ab03b24",
   "metadata": {},
   "outputs": [
    {
     "data": {
      "text/html": [
       "<div>\n",
       "<style scoped>\n",
       "    .dataframe tbody tr th:only-of-type {\n",
       "        vertical-align: middle;\n",
       "    }\n",
       "\n",
       "    .dataframe tbody tr th {\n",
       "        vertical-align: top;\n",
       "    }\n",
       "\n",
       "    .dataframe thead th {\n",
       "        text-align: right;\n",
       "    }\n",
       "</style>\n",
       "<table border=\"1\" class=\"dataframe\">\n",
       "  <thead>\n",
       "    <tr style=\"text-align: right;\">\n",
       "      <th></th>\n",
       "      <th>mean</th>\n",
       "    </tr>\n",
       "    <tr>\n",
       "      <th>category</th>\n",
       "      <th></th>\n",
       "    </tr>\n",
       "  </thead>\n",
       "  <tbody>\n",
       "    <tr>\n",
       "      <th>ecom</th>\n",
       "      <td>10.875980</td>\n",
       "    </tr>\n",
       "    <tr>\n",
       "      <th>web</th>\n",
       "      <td>8.520041</td>\n",
       "    </tr>\n",
       "  </tbody>\n",
       "</table>\n",
       "</div>"
      ],
      "text/plain": [
       "               mean\n",
       "category           \n",
       "ecom      10.875980\n",
       "web        8.520041"
      ]
     },
     "execution_count": 32,
     "metadata": {},
     "output_type": "execute_result"
    }
   ],
   "source": [
    "df.groupby(['category'])['num_suggestions'].agg(['mean'])"
   ]
  },
  {
   "cell_type": "code",
   "execution_count": 13,
   "id": "87dfdb93-8978-4adc-a859-6f8c45d115ff",
   "metadata": {},
   "outputs": [
    {
     "data": {
      "text/html": [
       "<div>\n",
       "<style scoped>\n",
       "    .dataframe tbody tr th:only-of-type {\n",
       "        vertical-align: middle;\n",
       "    }\n",
       "\n",
       "    .dataframe tbody tr th {\n",
       "        vertical-align: top;\n",
       "    }\n",
       "\n",
       "    .dataframe thead th {\n",
       "        text-align: right;\n",
       "    }\n",
       "</style>\n",
       "<table border=\"1\" class=\"dataframe\">\n",
       "  <thead>\n",
       "    <tr style=\"text-align: right;\">\n",
       "      <th></th>\n",
       "      <th>mean</th>\n",
       "    </tr>\n",
       "    <tr>\n",
       "      <th>search_engine</th>\n",
       "      <th></th>\n",
       "    </tr>\n",
       "  </thead>\n",
       "  <tbody>\n",
       "    <tr>\n",
       "      <th>neeva</th>\n",
       "      <td>4.983402</td>\n",
       "    </tr>\n",
       "    <tr>\n",
       "      <th>bing</th>\n",
       "      <td>7.578512</td>\n",
       "    </tr>\n",
       "    <tr>\n",
       "      <th>duckduckgo</th>\n",
       "      <td>8.000000</td>\n",
       "    </tr>\n",
       "    <tr>\n",
       "      <th>target</th>\n",
       "      <td>9.007782</td>\n",
       "    </tr>\n",
       "    <tr>\n",
       "      <th>yahoo</th>\n",
       "      <td>9.907216</td>\n",
       "    </tr>\n",
       "    <tr>\n",
       "      <th>google</th>\n",
       "      <td>10.000000</td>\n",
       "    </tr>\n",
       "    <tr>\n",
       "      <th>ebay</th>\n",
       "      <td>11.043478</td>\n",
       "    </tr>\n",
       "    <tr>\n",
       "      <th>etsy</th>\n",
       "      <td>11.278075</td>\n",
       "    </tr>\n",
       "    <tr>\n",
       "      <th>amazon</th>\n",
       "      <td>11.488889</td>\n",
       "    </tr>\n",
       "  </tbody>\n",
       "</table>\n",
       "</div>"
      ],
      "text/plain": [
       "                    mean\n",
       "search_engine           \n",
       "neeva           4.983402\n",
       "bing            7.578512\n",
       "duckduckgo      8.000000\n",
       "target          9.007782\n",
       "yahoo           9.907216\n",
       "google         10.000000\n",
       "ebay           11.043478\n",
       "etsy           11.278075\n",
       "amazon         11.488889"
      ]
     },
     "execution_count": 13,
     "metadata": {},
     "output_type": "execute_result"
    }
   ],
   "source": [
    "avg_num_suggestions = df.groupby(['search_engine'])['num_suggestions'].agg(['mean']).sort_values('mean')\n",
    "avg_num_suggestions"
   ]
  },
  {
   "cell_type": "code",
   "execution_count": 6,
   "id": "553cddb7-9eb3-4b24-a7a2-75fd32d2c58d",
   "metadata": {},
   "outputs": [
    {
     "data": {
      "text/plain": [
       "<AxesSubplot:title={'center':'Number of suggestions shown'}, xlabel='search_engine'>"
      ]
     },
     "execution_count": 6,
     "metadata": {},
     "output_type": "execute_result"
    },
    {
     "data": {
      "image/png": "[encoded data removed]",
      "text/plain": [
       "<Figure size 1440x864 with 1 Axes>"
      ]
     },
     "metadata": {
      "needs_background": "light"
     },
     "output_type": "display_data"
    }
   ],
   "source": [
    "avg_num_suggestions.plot(kind='bar', title='Number of suggestions shown', y='mean', figsize=(20,12), fontsize=16, color=['#00a3fe'])"
   ]
  },
  {
   "cell_type": "markdown",
   "id": "d84b45ad-f79b-4531-9676-a6f844573d98",
   "metadata": {},
   "source": [
    "# Number of Words"
   ]
  },
  {
   "cell_type": "code",
   "execution_count": 29,
   "id": "b435f643-1bf5-461e-82c4-049f90782432",
   "metadata": {},
   "outputs": [
    {
     "data": {
      "text/plain": [
       "mean    2.724956\n",
       "Name: num_words, dtype: float64"
      ]
     },
     "execution_count": 29,
     "metadata": {},
     "output_type": "execute_result"
    }
   ],
   "source": [
    "df['num_words'].agg(['mean'])"
   ]
  },
  {
   "cell_type": "code",
   "execution_count": 33,
   "id": "c886f342-9adb-4e06-acca-f4ed6fcd7e82",
   "metadata": {},
   "outputs": [
    {
     "data": {
      "text/html": [
       "<div>\n",
       "<style scoped>\n",
       "    .dataframe tbody tr th:only-of-type {\n",
       "        vertical-align: middle;\n",
       "    }\n",
       "\n",
       "    .dataframe tbody tr th {\n",
       "        vertical-align: top;\n",
       "    }\n",
       "\n",
       "    .dataframe thead th {\n",
       "        text-align: right;\n",
       "    }\n",
       "</style>\n",
       "<table border=\"1\" class=\"dataframe\">\n",
       "  <thead>\n",
       "    <tr style=\"text-align: right;\">\n",
       "      <th></th>\n",
       "      <th>mean</th>\n",
       "    </tr>\n",
       "    <tr>\n",
       "      <th>category</th>\n",
       "      <th></th>\n",
       "    </tr>\n",
       "  </thead>\n",
       "  <tbody>\n",
       "    <tr>\n",
       "      <th>ecom</th>\n",
       "      <td>3.023521</td>\n",
       "    </tr>\n",
       "    <tr>\n",
       "      <th>web</th>\n",
       "      <td>2.512430</td>\n",
       "    </tr>\n",
       "  </tbody>\n",
       "</table>\n",
       "</div>"
      ],
      "text/plain": [
       "              mean\n",
       "category          \n",
       "ecom      3.023521\n",
       "web       2.512430"
      ]
     },
     "execution_count": 33,
     "metadata": {},
     "output_type": "execute_result"
    }
   ],
   "source": [
    "df.groupby(['category'])['num_words'].agg(['mean'])"
   ]
  },
  {
   "cell_type": "code",
   "execution_count": 16,
   "id": "3a248346-b44f-4528-ad10-d97d1ada18a6",
   "metadata": {},
   "outputs": [
    {
     "data": {
      "text/html": [
       "<div>\n",
       "<style scoped>\n",
       "    .dataframe tbody tr th:only-of-type {\n",
       "        vertical-align: middle;\n",
       "    }\n",
       "\n",
       "    .dataframe tbody tr th {\n",
       "        vertical-align: top;\n",
       "    }\n",
       "\n",
       "    .dataframe thead th {\n",
       "        text-align: right;\n",
       "    }\n",
       "</style>\n",
       "<table border=\"1\" class=\"dataframe\">\n",
       "  <thead>\n",
       "    <tr style=\"text-align: right;\">\n",
       "      <th></th>\n",
       "      <th>mean</th>\n",
       "    </tr>\n",
       "    <tr>\n",
       "      <th>search_engine</th>\n",
       "      <th></th>\n",
       "    </tr>\n",
       "  </thead>\n",
       "  <tbody>\n",
       "    <tr>\n",
       "      <th>duckduckgo</th>\n",
       "      <td>2.033163</td>\n",
       "    </tr>\n",
       "    <tr>\n",
       "      <th>neeva</th>\n",
       "      <td>2.286307</td>\n",
       "    </tr>\n",
       "    <tr>\n",
       "      <th>etsy</th>\n",
       "      <td>2.462567</td>\n",
       "    </tr>\n",
       "    <tr>\n",
       "      <th>bing</th>\n",
       "      <td>2.515152</td>\n",
       "    </tr>\n",
       "    <tr>\n",
       "      <th>yahoo</th>\n",
       "      <td>2.727835</td>\n",
       "    </tr>\n",
       "    <tr>\n",
       "      <th>google</th>\n",
       "      <td>2.791837</td>\n",
       "    </tr>\n",
       "    <tr>\n",
       "      <th>amazon</th>\n",
       "      <td>3.073333</td>\n",
       "    </tr>\n",
       "    <tr>\n",
       "      <th>target</th>\n",
       "      <td>3.128405</td>\n",
       "    </tr>\n",
       "    <tr>\n",
       "      <th>ebay</th>\n",
       "      <td>3.521739</td>\n",
       "    </tr>\n",
       "  </tbody>\n",
       "</table>\n",
       "</div>"
      ],
      "text/plain": [
       "                   mean\n",
       "search_engine          \n",
       "duckduckgo     2.033163\n",
       "neeva          2.286307\n",
       "etsy           2.462567\n",
       "bing           2.515152\n",
       "yahoo          2.727835\n",
       "google         2.791837\n",
       "amazon         3.073333\n",
       "target         3.128405\n",
       "ebay           3.521739"
      ]
     },
     "execution_count": 16,
     "metadata": {},
     "output_type": "execute_result"
    }
   ],
   "source": [
    "avg_num_words = df.groupby(['search_engine'])['num_words'].agg(['mean']).sort_values('mean')\n",
    "avg_num_words"
   ]
  },
  {
   "cell_type": "code",
   "execution_count": 17,
   "id": "76bdafb5-2136-47ec-9e71-2f7ef93ea63b",
   "metadata": {},
   "outputs": [
    {
     "data": {
      "text/plain": [
       "<AxesSubplot:title={'center':'Number of words shown'}, xlabel='search_engine'>"
      ]
     },
     "execution_count": 17,
     "metadata": {},
     "output_type": "execute_result"
    },
    {
     "data": {
      "image/png": "[encoded data removed]",
      "text/plain": [
       "<Figure size 1440x864 with 1 Axes>"
      ]
     },
     "metadata": {
      "needs_background": "light"
     },
     "output_type": "display_data"
    }
   ],
   "source": [
    "avg_num_words.plot(kind='bar', title='Number of words shown', y='mean', figsize=(20,12), fontsize=16, color=['#00a3fe'])"
   ]
  },
  {
   "cell_type": "markdown",
   "id": "e8247245-38f6-4a4e-b47d-c11aeee1c6d1",
   "metadata": {},
   "source": [
    "# How many characters?"
   ]
  },
  {
   "cell_type": "code",
   "execution_count": 28,
   "id": "3c231e60-7bb7-4e04-8cf5-841e95051747",
   "metadata": {},
   "outputs": [
    {
     "data": {
      "text/plain": [
       "mean    17.089212\n",
       "Name: num_characters, dtype: float64"
      ]
     },
     "execution_count": 28,
     "metadata": {},
     "output_type": "execute_result"
    }
   ],
   "source": [
    "df['num_characters'].agg(['mean'])"
   ]
  },
  {
   "cell_type": "code",
   "execution_count": 34,
   "id": "95a1004e-60b0-4bd1-9ba9-c5c4ba1dd772",
   "metadata": {},
   "outputs": [
    {
     "data": {
      "text/html": [
       "<div>\n",
       "<style scoped>\n",
       "    .dataframe tbody tr th:only-of-type {\n",
       "        vertical-align: middle;\n",
       "    }\n",
       "\n",
       "    .dataframe tbody tr th {\n",
       "        vertical-align: top;\n",
       "    }\n",
       "\n",
       "    .dataframe thead th {\n",
       "        text-align: right;\n",
       "    }\n",
       "</style>\n",
       "<table border=\"1\" class=\"dataframe\">\n",
       "  <thead>\n",
       "    <tr style=\"text-align: right;\">\n",
       "      <th></th>\n",
       "      <th>mean</th>\n",
       "    </tr>\n",
       "    <tr>\n",
       "      <th>category</th>\n",
       "      <th></th>\n",
       "    </tr>\n",
       "  </thead>\n",
       "  <tbody>\n",
       "    <tr>\n",
       "      <th>ecom</th>\n",
       "      <td>18.298646</td>\n",
       "    </tr>\n",
       "    <tr>\n",
       "      <th>web</th>\n",
       "      <td>16.228311</td>\n",
       "    </tr>\n",
       "  </tbody>\n",
       "</table>\n",
       "</div>"
      ],
      "text/plain": [
       "               mean\n",
       "category           \n",
       "ecom      18.298646\n",
       "web       16.228311"
      ]
     },
     "execution_count": 34,
     "metadata": {},
     "output_type": "execute_result"
    }
   ],
   "source": [
    "df.groupby(['category'])['num_characters'].agg(['mean'])"
   ]
  },
  {
   "cell_type": "code",
   "execution_count": 19,
   "id": "39862eb1-aa31-4402-a405-58f505b94c20",
   "metadata": {},
   "outputs": [
    {
     "data": {
      "text/html": [
       "<div>\n",
       "<style scoped>\n",
       "    .dataframe tbody tr th:only-of-type {\n",
       "        vertical-align: middle;\n",
       "    }\n",
       "\n",
       "    .dataframe tbody tr th {\n",
       "        vertical-align: top;\n",
       "    }\n",
       "\n",
       "    .dataframe thead th {\n",
       "        text-align: right;\n",
       "    }\n",
       "</style>\n",
       "<table border=\"1\" class=\"dataframe\">\n",
       "  <thead>\n",
       "    <tr style=\"text-align: right;\">\n",
       "      <th></th>\n",
       "      <th>mean</th>\n",
       "    </tr>\n",
       "    <tr>\n",
       "      <th>search_engine</th>\n",
       "      <th></th>\n",
       "    </tr>\n",
       "  </thead>\n",
       "  <tbody>\n",
       "    <tr>\n",
       "      <th>duckduckgo</th>\n",
       "      <td>12.793367</td>\n",
       "    </tr>\n",
       "    <tr>\n",
       "      <th>neeva</th>\n",
       "      <td>14.568465</td>\n",
       "    </tr>\n",
       "    <tr>\n",
       "      <th>etsy</th>\n",
       "      <td>15.895722</td>\n",
       "    </tr>\n",
       "    <tr>\n",
       "      <th>bing</th>\n",
       "      <td>16.011019</td>\n",
       "    </tr>\n",
       "    <tr>\n",
       "      <th>google</th>\n",
       "      <td>17.630612</td>\n",
       "    </tr>\n",
       "    <tr>\n",
       "      <th>target</th>\n",
       "      <td>17.828794</td>\n",
       "    </tr>\n",
       "    <tr>\n",
       "      <th>yahoo</th>\n",
       "      <td>18.575258</td>\n",
       "    </tr>\n",
       "    <tr>\n",
       "      <th>amazon</th>\n",
       "      <td>18.835556</td>\n",
       "    </tr>\n",
       "    <tr>\n",
       "      <th>ebay</th>\n",
       "      <td>20.714286</td>\n",
       "    </tr>\n",
       "  </tbody>\n",
       "</table>\n",
       "</div>"
      ],
      "text/plain": [
       "                    mean\n",
       "search_engine           \n",
       "duckduckgo     12.793367\n",
       "neeva          14.568465\n",
       "etsy           15.895722\n",
       "bing           16.011019\n",
       "google         17.630612\n",
       "target         17.828794\n",
       "yahoo          18.575258\n",
       "amazon         18.835556\n",
       "ebay           20.714286"
      ]
     },
     "execution_count": 19,
     "metadata": {},
     "output_type": "execute_result"
    }
   ],
   "source": [
    "avg_num_chars = df.groupby(['search_engine'])['num_characters'].agg(['mean']).sort_values('mean')\n",
    "avg_num_chars"
   ]
  },
  {
   "cell_type": "code",
   "execution_count": 20,
   "id": "4969724d-fbcf-4b36-a52c-2fc7f6b3c92a",
   "metadata": {},
   "outputs": [
    {
     "data": {
      "text/plain": [
       "<AxesSubplot:title={'center':'Number of characters'}, xlabel='search_engine'>"
      ]
     },
     "execution_count": 20,
     "metadata": {},
     "output_type": "execute_result"
    },
    {
     "data": {
      "image/png": "[encoded data removed]",
      "text/plain": [
       "<Figure size 1440x864 with 1 Axes>"
      ]
     },
     "metadata": {
      "needs_background": "light"
     },
     "output_type": "display_data"
    }
   ],
   "source": [
    "avg_num_chars.plot(kind='bar', title='Number of characters', y='mean', figsize=(20,12), fontsize=16, color=['#00a3fe'])"
   ]
  },
  {
   "cell_type": "markdown",
   "id": "bb3c7ca4-c898-4753-8180-a498845882a9",
   "metadata": {},
   "source": [
    "# How tall should a suggestion be?"
   ]
  },
  {
   "cell_type": "code",
   "execution_count": 27,
   "id": "2f74eb47-efb1-4b6a-9946-daba0bcb65e2",
   "metadata": {},
   "outputs": [
    {
     "data": {
      "text/plain": [
       "mean    34.860996\n",
       "Name: height, dtype: float64"
      ]
     },
     "execution_count": 27,
     "metadata": {},
     "output_type": "execute_result"
    }
   ],
   "source": [
    "df['height'].agg(['mean'])"
   ]
  },
  {
   "cell_type": "code",
   "execution_count": 35,
   "id": "529ce51b-100e-4492-9a97-3145ef71be37",
   "metadata": {},
   "outputs": [
    {
     "data": {
      "text/html": [
       "<div>\n",
       "<style scoped>\n",
       "    .dataframe tbody tr th:only-of-type {\n",
       "        vertical-align: middle;\n",
       "    }\n",
       "\n",
       "    .dataframe tbody tr th {\n",
       "        vertical-align: top;\n",
       "    }\n",
       "\n",
       "    .dataframe thead th {\n",
       "        text-align: right;\n",
       "    }\n",
       "</style>\n",
       "<table border=\"1\" class=\"dataframe\">\n",
       "  <thead>\n",
       "    <tr style=\"text-align: right;\">\n",
       "      <th></th>\n",
       "      <th>mean</th>\n",
       "    </tr>\n",
       "    <tr>\n",
       "      <th>category</th>\n",
       "      <th></th>\n",
       "    </tr>\n",
       "  </thead>\n",
       "  <tbody>\n",
       "    <tr>\n",
       "      <th>ecom</th>\n",
       "      <td>37.16536</td>\n",
       "    </tr>\n",
       "    <tr>\n",
       "      <th>web</th>\n",
       "      <td>33.22070</td>\n",
       "    </tr>\n",
       "  </tbody>\n",
       "</table>\n",
       "</div>"
      ],
      "text/plain": [
       "              mean\n",
       "category          \n",
       "ecom      37.16536\n",
       "web       33.22070"
      ]
     },
     "execution_count": 35,
     "metadata": {},
     "output_type": "execute_result"
    }
   ],
   "source": [
    "df.groupby(['category'])['height'].agg(['mean'])"
   ]
  },
  {
   "cell_type": "code",
   "execution_count": 22,
   "id": "8eef264a-dabd-49b1-bf8a-8e3eb453ee43",
   "metadata": {},
   "outputs": [
    {
     "data": {
      "text/html": [
       "<div>\n",
       "<style scoped>\n",
       "    .dataframe tbody tr th:only-of-type {\n",
       "        vertical-align: middle;\n",
       "    }\n",
       "\n",
       "    .dataframe tbody tr th {\n",
       "        vertical-align: top;\n",
       "    }\n",
       "\n",
       "    .dataframe thead th {\n",
       "        text-align: right;\n",
       "    }\n",
       "</style>\n",
       "<table border=\"1\" class=\"dataframe\">\n",
       "  <thead>\n",
       "    <tr style=\"text-align: right;\">\n",
       "      <th></th>\n",
       "      <th>mean</th>\n",
       "    </tr>\n",
       "    <tr>\n",
       "      <th>search_engine</th>\n",
       "      <th></th>\n",
       "    </tr>\n",
       "  </thead>\n",
       "  <tbody>\n",
       "    <tr>\n",
       "      <th>duckduckgo</th>\n",
       "      <td>28.000000</td>\n",
       "    </tr>\n",
       "    <tr>\n",
       "      <th>yahoo</th>\n",
       "      <td>32.494845</td>\n",
       "    </tr>\n",
       "    <tr>\n",
       "      <th>google</th>\n",
       "      <td>32.722449</td>\n",
       "    </tr>\n",
       "    <tr>\n",
       "      <th>ebay</th>\n",
       "      <td>34.170807</td>\n",
       "    </tr>\n",
       "    <tr>\n",
       "      <th>etsy</th>\n",
       "      <td>34.609626</td>\n",
       "    </tr>\n",
       "    <tr>\n",
       "      <th>amazon</th>\n",
       "      <td>35.244444</td>\n",
       "    </tr>\n",
       "    <tr>\n",
       "      <th>bing</th>\n",
       "      <td>36.000000</td>\n",
       "    </tr>\n",
       "    <tr>\n",
       "      <th>neeva</th>\n",
       "      <td>40.000000</td>\n",
       "    </tr>\n",
       "    <tr>\n",
       "      <th>target</th>\n",
       "      <td>48.000000</td>\n",
       "    </tr>\n",
       "  </tbody>\n",
       "</table>\n",
       "</div>"
      ],
      "text/plain": [
       "                    mean\n",
       "search_engine           \n",
       "duckduckgo     28.000000\n",
       "yahoo          32.494845\n",
       "google         32.722449\n",
       "ebay           34.170807\n",
       "etsy           34.609626\n",
       "amazon         35.244444\n",
       "bing           36.000000\n",
       "neeva          40.000000\n",
       "target         48.000000"
      ]
     },
     "execution_count": 22,
     "metadata": {},
     "output_type": "execute_result"
    }
   ],
   "source": [
    "avg_suggestion_height = df.groupby(['search_engine'])['height'].agg(['mean']).sort_values('mean')\n",
    "avg_suggestion_height"
   ]
  },
  {
   "cell_type": "code",
   "execution_count": 24,
   "id": "b16a92b0-e9c5-4d6d-9577-9b42bdad8c25",
   "metadata": {},
   "outputs": [
    {
     "data": {
      "text/plain": [
       "<AxesSubplot:title={'center':'How tall should a suggestion be? (px)'}, xlabel='search_engine'>"
      ]
     },
     "execution_count": 24,
     "metadata": {},
     "output_type": "execute_result"
    },
    {
     "data": {
      "image/png": "[encoded data removed]",
      "text/plain": [
       "<Figure size 1440x864 with 1 Axes>"
      ]
     },
     "metadata": {
      "needs_background": "light"
     },
     "output_type": "display_data"
    }
   ],
   "source": [
    "avg_suggestion_height.plot(kind='bar', title='How tall should a suggestion be? (px)', y='mean', figsize=(20,12), fontsize=16, color=['#00a3fe'])"
   ]
  }
 ],
 "metadata": {
  "kernelspec": {
   "display_name": "Python 3 (ipykernel)",
   "language": "python",
   "name": "python3"
  },
  "language_info": {
   "codemirror_mode": {
    "name": "ipython",
    "version": 3
   },
   "file_extension": ".py",
   "mimetype": "text/x-python",
   "name": "python",
   "nbconvert_exporter": "python",
   "pygments_lexer": "ipython3",
   "version": "3.9.10"
  }
 },
 "nbformat": 4,
 "nbformat_minor": 5
}
